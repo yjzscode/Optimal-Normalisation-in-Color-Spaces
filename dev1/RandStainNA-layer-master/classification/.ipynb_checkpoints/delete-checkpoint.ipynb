{
 "cells": [
  {
   "cell_type": "code",
   "execution_count": 1,
   "id": "6948733e-672c-4c92-b069-5c28f1feb81c",
   "metadata": {},
   "outputs": [],
   "source": [
    "import shutil\n",
    "\n",
    "shutil.rmtree('/root/autodl-tmp/RandStainNA-master/classification/NCT-CRC-HE-100K-NONORM')\n"
   ]
  },
  {
   "cell_type": "code",
   "execution_count": null,
   "id": "a6b2ecab-1c97-4a7e-b256-8e1d0b7169ad",
   "metadata": {},
   "outputs": [],
   "source": []
  }
 ],
 "metadata": {
  "kernelspec": {
   "display_name": "Python 3 (ipykernel)",
   "language": "python",
   "name": "python3"
  },
  "language_info": {
   "codemirror_mode": {
    "name": "ipython",
    "version": 3
   },
   "file_extension": ".py",
   "mimetype": "text/x-python",
   "name": "python",
   "nbconvert_exporter": "python",
   "pygments_lexer": "ipython3",
   "version": "3.8.10"
  }
 },
 "nbformat": 4,
 "nbformat_minor": 5
}
