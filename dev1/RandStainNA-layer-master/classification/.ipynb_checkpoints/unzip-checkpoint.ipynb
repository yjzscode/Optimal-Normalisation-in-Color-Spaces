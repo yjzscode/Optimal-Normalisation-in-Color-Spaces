{
 "cells": [
  {
   "cell_type": "code",
   "execution_count": 2,
   "id": "78819adc-024a-42c9-a69b-48e027f9a91e",
   "metadata": {},
   "outputs": [
    {
     "ename": "BadZipFile",
     "evalue": "File is not a zip file",
     "output_type": "error",
     "traceback": [
      "\u001b[0;31m---------------------------------------------------------------------------\u001b[0m",
      "\u001b[0;31mBadZipFile\u001b[0m                                Traceback (most recent call last)",
      "\u001b[0;32m/tmp/ipykernel_22802/1995369472.py\u001b[0m in \u001b[0;36m<module>\u001b[0;34m\u001b[0m\n\u001b[1;32m      1\u001b[0m \u001b[0;32mimport\u001b[0m \u001b[0mzipfile\u001b[0m\u001b[0;34m\u001b[0m\u001b[0;34m\u001b[0m\u001b[0m\n\u001b[1;32m      2\u001b[0m \u001b[0;34m\u001b[0m\u001b[0m\n\u001b[0;32m----> 3\u001b[0;31m \u001b[0mf\u001b[0m \u001b[0;34m=\u001b[0m \u001b[0mzipfile\u001b[0m\u001b[0;34m.\u001b[0m\u001b[0mZipFile\u001b[0m\u001b[0;34m(\u001b[0m\u001b[0;34m\"/root/autodl-tmp/RandStainNA-master/classification/NCT-CRC-HE-100K-NONORM.zip\"\u001b[0m\u001b[0;34m,\u001b[0m\u001b[0;34m'r'\u001b[0m\u001b[0;34m)\u001b[0m \u001b[0;31m# 原压缩文件在服务器的位置\u001b[0m\u001b[0;34m\u001b[0m\u001b[0;34m\u001b[0m\u001b[0m\n\u001b[0m\u001b[1;32m      4\u001b[0m \u001b[0;34m\u001b[0m\u001b[0m\n\u001b[1;32m      5\u001b[0m \u001b[0;32mfor\u001b[0m \u001b[0mfile\u001b[0m \u001b[0;32min\u001b[0m \u001b[0mf\u001b[0m\u001b[0;34m.\u001b[0m\u001b[0mnamelist\u001b[0m\u001b[0;34m(\u001b[0m\u001b[0;34m)\u001b[0m\u001b[0;34m:\u001b[0m\u001b[0;34m\u001b[0m\u001b[0;34m\u001b[0m\u001b[0m\n",
      "\u001b[0;32m~/miniconda3/lib/python3.8/zipfile.py\u001b[0m in \u001b[0;36m__init__\u001b[0;34m(self, file, mode, compression, allowZip64, compresslevel, strict_timestamps)\u001b[0m\n\u001b[1;32m   1267\u001b[0m         \u001b[0;32mtry\u001b[0m\u001b[0;34m:\u001b[0m\u001b[0;34m\u001b[0m\u001b[0;34m\u001b[0m\u001b[0m\n\u001b[1;32m   1268\u001b[0m             \u001b[0;32mif\u001b[0m \u001b[0mmode\u001b[0m \u001b[0;34m==\u001b[0m \u001b[0;34m'r'\u001b[0m\u001b[0;34m:\u001b[0m\u001b[0;34m\u001b[0m\u001b[0;34m\u001b[0m\u001b[0m\n\u001b[0;32m-> 1269\u001b[0;31m                 \u001b[0mself\u001b[0m\u001b[0;34m.\u001b[0m\u001b[0m_RealGetContents\u001b[0m\u001b[0;34m(\u001b[0m\u001b[0;34m)\u001b[0m\u001b[0;34m\u001b[0m\u001b[0;34m\u001b[0m\u001b[0m\n\u001b[0m\u001b[1;32m   1270\u001b[0m             \u001b[0;32melif\u001b[0m \u001b[0mmode\u001b[0m \u001b[0;32min\u001b[0m \u001b[0;34m(\u001b[0m\u001b[0;34m'w'\u001b[0m\u001b[0;34m,\u001b[0m \u001b[0;34m'x'\u001b[0m\u001b[0;34m)\u001b[0m\u001b[0;34m:\u001b[0m\u001b[0;34m\u001b[0m\u001b[0;34m\u001b[0m\u001b[0m\n\u001b[1;32m   1271\u001b[0m                 \u001b[0;31m# set the modified flag so central directory gets written\u001b[0m\u001b[0;34m\u001b[0m\u001b[0;34m\u001b[0m\u001b[0;34m\u001b[0m\u001b[0m\n",
      "\u001b[0;32m~/miniconda3/lib/python3.8/zipfile.py\u001b[0m in \u001b[0;36m_RealGetContents\u001b[0;34m(self)\u001b[0m\n\u001b[1;32m   1334\u001b[0m             \u001b[0;32mraise\u001b[0m \u001b[0mBadZipFile\u001b[0m\u001b[0;34m(\u001b[0m\u001b[0;34m\"File is not a zip file\"\u001b[0m\u001b[0;34m)\u001b[0m\u001b[0;34m\u001b[0m\u001b[0;34m\u001b[0m\u001b[0m\n\u001b[1;32m   1335\u001b[0m         \u001b[0;32mif\u001b[0m \u001b[0;32mnot\u001b[0m \u001b[0mendrec\u001b[0m\u001b[0;34m:\u001b[0m\u001b[0;34m\u001b[0m\u001b[0;34m\u001b[0m\u001b[0m\n\u001b[0;32m-> 1336\u001b[0;31m             \u001b[0;32mraise\u001b[0m \u001b[0mBadZipFile\u001b[0m\u001b[0;34m(\u001b[0m\u001b[0;34m\"File is not a zip file\"\u001b[0m\u001b[0;34m)\u001b[0m\u001b[0;34m\u001b[0m\u001b[0;34m\u001b[0m\u001b[0m\n\u001b[0m\u001b[1;32m   1337\u001b[0m         \u001b[0;32mif\u001b[0m \u001b[0mself\u001b[0m\u001b[0;34m.\u001b[0m\u001b[0mdebug\u001b[0m \u001b[0;34m>\u001b[0m \u001b[0;36m1\u001b[0m\u001b[0;34m:\u001b[0m\u001b[0;34m\u001b[0m\u001b[0;34m\u001b[0m\u001b[0m\n\u001b[1;32m   1338\u001b[0m             \u001b[0mprint\u001b[0m\u001b[0;34m(\u001b[0m\u001b[0mendrec\u001b[0m\u001b[0;34m)\u001b[0m\u001b[0;34m\u001b[0m\u001b[0;34m\u001b[0m\u001b[0m\n",
      "\u001b[0;31mBadZipFile\u001b[0m: File is not a zip file"
     ]
    }
   ],
   "source": [
    "import zipfile\n",
    "\n",
    "f = zipfile.ZipFile(\"NCT-CRC-HE-100K-NONORM.zip\",'r') # 原压缩文件在服务器的位置\n",
    "\n",
    "for file in f.namelist():\n",
    "\n",
    "    f.extract(file,\"./\") #解压到的位置，./表示当前目录(与此.ipynb文件同一个目录)\n",
    "\n",
    "f.close()"
   ]
  },
  {
   "cell_type": "code",
   "execution_count": null,
   "id": "a31ae49d-2878-4477-ae62-f55646516ee6",
   "metadata": {},
   "outputs": [
    {
     "name": "stdout",
     "output_type": "stream",
     "text": [
      "/root/autodl-tmp/RandStainNA-master/classification/BACHdata/train\n",
      "/root/autodl-tmp/RandStainNA-master/classification/BACHdata/n056/train\n"
     ]
    }
   ],
   "source": [
    "!python datasets_colorNorm.py"
   ]
  },
  {
   "cell_type": "code",
   "execution_count": 10,
   "id": "32bf2a30-f328-4f25-9416-def4f9555251",
   "metadata": {
    "collapsed": true,
    "jupyter": {
     "outputs_hidden": true
    },
    "tags": []
   },
   "outputs": [
    {
     "name": "stdout",
     "output_type": "stream",
     "text": [
      "Looking in indexes: http://mirrors.aliyun.com/pypi/simple\n",
      "Collecting pyyaml\n",
      "  Downloading http://mirrors.aliyun.com/pypi/packages/d7/42/7ad4b6d67a16229496d4f6e74201bdbebcf4bc1e87d5a70c9297d4961bd2/PyYAML-6.0-cp38-cp38-manylinux_2_5_x86_64.manylinux1_x86_64.manylinux_2_12_x86_64.manylinux2010_x86_64.whl (701 kB)\n",
      "\u001b[K     |████████████████████████████████| 701 kB 495 kB/s eta 0:00:01\n",
      "\u001b[?25hCollecting scikit-image\n",
      "  Downloading http://mirrors.aliyun.com/pypi/packages/96/11/878ee6757f75835c396fbdd934ca8e1a1681553ac0925fbf77065c9618e5/scikit_image-0.19.3-cp38-cp38-manylinux_2_17_x86_64.manylinux2014_x86_64.whl (14.0 MB)\n",
      "\u001b[K     |████████████████████████████████| 14.0 MB 553 kB/s eta 0:00:01\n",
      "\u001b[?25hCollecting opencv-python\n",
      "  Downloading http://mirrors.aliyun.com/pypi/packages/af/bf/8d189a5c43460f6b5c8eb81ead8732e94b9f73ef8d9abba9e8f5a61a6531/opencv_python-4.6.0.66-cp36-abi3-manylinux_2_17_x86_64.manylinux2014_x86_64.whl (60.9 MB)\n",
      "\u001b[K     |████████████████████████████████| 60.9 MB 518 kB/s eta 0:00:01\n",
      "\u001b[?25hCollecting fitter\n",
      "  Downloading http://mirrors.aliyun.com/pypi/packages/82/63/a83d3ef1bcde13878cf7c5c6efbe0b73abcea842f32eb2ac0d53e2270659/fitter-1.4.0.tar.gz (27 kB)\n",
      "Collecting openslide-python\n",
      "  Downloading http://mirrors.aliyun.com/pypi/packages/e7/35/794fe55d5789c6f4ed98dfecfb5b8516eb619b0f6dec18d03c653590de71/openslide-python-1.2.0.tar.gz (338 kB)\n",
      "\u001b[K     |████████████████████████████████| 338 kB 485 kB/s eta 0:00:01\n",
      "\u001b[?25hCollecting scikit-learn\n",
      "  Downloading http://mirrors.aliyun.com/pypi/packages/72/7d/cbcad2588a4baf1661e43005a9c35a955ab38e247a943715d90a7c96e6b3/scikit_learn-1.1.1-cp38-cp38-manylinux_2_17_x86_64.manylinux2014_x86_64.whl (31.2 MB)\n",
      "\u001b[K     |████████████████████████████████| 31.2 MB 606 kB/s eta 0:00:01\n",
      "\u001b[?25hRequirement already satisfied: pillow!=7.1.0,!=7.1.1,!=8.3.0,>=6.1.0 in /root/miniconda3/lib/python3.8/site-packages (from scikit-image->-r requirements.txt (line 2)) (8.3.2)\n",
      "Requirement already satisfied: packaging>=20.0 in /root/miniconda3/lib/python3.8/site-packages (from scikit-image->-r requirements.txt (line 2)) (21.0)\n",
      "Collecting networkx>=2.2\n",
      "  Downloading http://mirrors.aliyun.com/pypi/packages/34/71/1d6f7aaefa2fb38ea8c13dc47f3e2a32c4dc78f6229086ed90947fc49d3c/networkx-2.8.4-py3-none-any.whl (2.0 MB)\n",
      "\u001b[K     |████████████████████████████████| 2.0 MB 573 kB/s eta 0:00:01\n",
      "\u001b[?25hCollecting imageio>=2.4.1\n",
      "  Downloading http://mirrors.aliyun.com/pypi/packages/b6/78/3cf2f60ef319d253d71870c6cb00774bfc5bdccf9e06c319678388f58f41/imageio-2.19.3-py3-none-any.whl (3.4 MB)\n",
      "\u001b[K     |████████████████████████████████| 3.4 MB 641 kB/s eta 0:00:01\n",
      "\u001b[?25hCollecting scipy>=1.4.1\n",
      "  Downloading http://mirrors.aliyun.com/pypi/packages/cf/28/5ac0afe5fb473a934ef6bc7953a98a3d2eacf9a8f456524f035f3a844ca4/scipy-1.8.1-cp38-cp38-manylinux_2_17_x86_64.manylinux2014_x86_64.whl (41.6 MB)\n",
      "\u001b[K     |████████████████████████████████| 41.6 MB 499 kB/s eta 0:00:01\n",
      "\u001b[?25hCollecting PyWavelets>=1.1.1\n",
      "  Downloading http://mirrors.aliyun.com/pypi/packages/4b/20/04a0a3e43a45a459c2bcde756833b2eca9430729e89d65da35f70e99e997/PyWavelets-1.3.0-cp38-cp38-manylinux_2_17_x86_64.manylinux2014_x86_64.whl (6.9 MB)\n",
      "\u001b[K     |████████████████████████████████| 6.9 MB 391 kB/s eta 0:00:01\n",
      "\u001b[?25hCollecting tifffile>=2019.7.26\n",
      "  Downloading http://mirrors.aliyun.com/pypi/packages/19/b7/30d7af4c25985be3852dccd99f15a2003a81bc8f287d57704619fed006ec/tifffile-2022.5.4-py3-none-any.whl (195 kB)\n",
      "\u001b[K     |████████████████████████████████| 195 kB 530 kB/s eta 0:00:01\n",
      "\u001b[?25hRequirement already satisfied: numpy>=1.17.0 in /root/miniconda3/lib/python3.8/site-packages (from scikit-image->-r requirements.txt (line 2)) (1.21.2)\n",
      "Requirement already satisfied: pyparsing>=2.0.2 in /root/miniconda3/lib/python3.8/site-packages (from packaging>=20.0->scikit-image->-r requirements.txt (line 2)) (2.4.7)\n",
      "Collecting easydev\n",
      "  Downloading http://mirrors.aliyun.com/pypi/packages/47/2f/6b5036f7761f1829ed4868d0a1a3e09bc4b885df359d48803e611f92e5b2/easydev-0.12.0.tar.gz (47 kB)\n",
      "\u001b[K     |████████████████████████████████| 47 kB 544 kB/s eta 0:00:01\n",
      "\u001b[?25hRequirement already satisfied: matplotlib in /root/miniconda3/lib/python3.8/site-packages (from fitter->-r requirements.txt (line 4)) (3.4.3)\n",
      "Collecting pandas\n",
      "  Downloading http://mirrors.aliyun.com/pypi/packages/d1/55/18b00a5426ad8a89944ab93b6b29773a556dc06af8b53a29031f861009e3/pandas-1.4.3-cp38-cp38-manylinux_2_17_x86_64.manylinux2014_x86_64.whl (11.7 MB)\n",
      "\u001b[K     |████████████████████████████████| 11.7 MB 283 kB/s eta 0:00:01\n",
      "\u001b[?25hCollecting click\n",
      "  Downloading http://mirrors.aliyun.com/pypi/packages/c2/f1/df59e28c642d583f7dacffb1e0965d0e00b218e0186d7858ac5233dce840/click-8.1.3-py3-none-any.whl (96 kB)\n",
      "\u001b[K     |████████████████████████████████| 96 kB 371 kB/s eta 0:00:01\n",
      "\u001b[?25hCollecting joblib\n",
      "  Downloading http://mirrors.aliyun.com/pypi/packages/3e/d5/0163eb0cfa0b673aa4fe1cd3ea9d8a81ea0f32e50807b0c295871e4aab2e/joblib-1.1.0-py2.py3-none-any.whl (306 kB)\n",
      "\u001b[K     |████████████████████████████████| 306 kB 347 kB/s eta 0:00:01\n",
      "\u001b[?25hCollecting threadpoolctl>=2.0.0\n",
      "  Downloading http://mirrors.aliyun.com/pypi/packages/61/cf/6e354304bcb9c6413c4e02a747b600061c21d38ba51e7e544ac7bc66aecc/threadpoolctl-3.1.0-py3-none-any.whl (14 kB)\n",
      "Collecting colorama\n",
      "  Downloading http://mirrors.aliyun.com/pypi/packages/77/8b/7550e87b2d308a1b711725dfaddc19c695f8c5fa413c640b2be01662f4e6/colorama-0.4.5-py2.py3-none-any.whl (16 kB)\n",
      "Requirement already satisfied: pexpect in /root/miniconda3/lib/python3.8/site-packages (from easydev->fitter->-r requirements.txt (line 4)) (4.8.0)\n",
      "Collecting colorlog\n",
      "  Downloading http://mirrors.aliyun.com/pypi/packages/7d/54/e24efe5469ecb2710112055de87a2900e9494810bcfc25c12c7a0723eb64/colorlog-6.6.0-py2.py3-none-any.whl (11 kB)\n",
      "Requirement already satisfied: cycler>=0.10 in /root/miniconda3/lib/python3.8/site-packages (from matplotlib->fitter->-r requirements.txt (line 4)) (0.10.0)\n",
      "Requirement already satisfied: kiwisolver>=1.0.1 in /root/miniconda3/lib/python3.8/site-packages (from matplotlib->fitter->-r requirements.txt (line 4)) (1.3.2)\n",
      "Requirement already satisfied: python-dateutil>=2.7 in /root/miniconda3/lib/python3.8/site-packages (from matplotlib->fitter->-r requirements.txt (line 4)) (2.8.2)\n",
      "Requirement already satisfied: six in /root/miniconda3/lib/python3.8/site-packages (from cycler>=0.10->matplotlib->fitter->-r requirements.txt (line 4)) (1.16.0)\n",
      "Requirement already satisfied: pytz>=2020.1 in /root/miniconda3/lib/python3.8/site-packages (from pandas->fitter->-r requirements.txt (line 4)) (2021.1)\n",
      "Requirement already satisfied: ptyprocess>=0.5 in /root/miniconda3/lib/python3.8/site-packages (from pexpect->easydev->fitter->-r requirements.txt (line 4)) (0.7.0)\n",
      "Building wheels for collected packages: fitter, openslide-python, easydev\n",
      "  Building wheel for fitter (setup.py) ... \u001b[?25ldone\n",
      "\u001b[?25h  Created wheel for fitter: filename=fitter-1.4.0-py3-none-any.whl size=25003 sha256=dc63496b8902981e2f29c6492cf84ff2dd4868afc206d10c18f2148ecae4475d\n",
      "  Stored in directory: /root/.cache/pip/wheels/f8/88/c1/119e66d404565ffc08152a930d35fe292abcd0293915d343b4\n",
      "  Building wheel for openslide-python (setup.py) ... \u001b[?25ldone\n",
      "\u001b[?25h  Created wheel for openslide-python: filename=openslide_python-1.2.0-cp38-cp38-linux_x86_64.whl size=27806 sha256=b811ff731313d03aa2d7f1b565e072296a7942cb2e1bc9f4a35dec364c3fc6da\n",
      "  Stored in directory: /root/.cache/pip/wheels/92/e3/9f/fc6500f62c8ec99897f7c8991c7290428040d6dd36a3d88fee\n",
      "  Building wheel for easydev (setup.py) ... \u001b[?25ldone\n",
      "\u001b[?25h  Created wheel for easydev: filename=easydev-0.12.0-py3-none-any.whl size=64216 sha256=3bad0a2de3f4e625bc1ceac42dfdeb39cfe3b2cc2b59749b78b81c921b1e4702\n",
      "  Stored in directory: /root/.cache/pip/wheels/1d/b5/a7/52f547fce34c265f68d10d009d3f978ad588554d9818817718\n",
      "Successfully built fitter openslide-python easydev\n",
      "Installing collected packages: colorlog, colorama, tifffile, threadpoolctl, scipy, PyWavelets, pandas, networkx, joblib, imageio, easydev, click, scikit-learn, scikit-image, pyyaml, openslide-python, opencv-python, fitter\n",
      "Successfully installed PyWavelets-1.3.0 click-8.1.3 colorama-0.4.5 colorlog-6.6.0 easydev-0.12.0 fitter-1.4.0 imageio-2.19.3 joblib-1.1.0 networkx-2.8.4 opencv-python-4.6.0.66 openslide-python-1.2.0 pandas-1.4.3 pyyaml-6.0 scikit-image-0.19.3 scikit-learn-1.1.1 scipy-1.8.1 threadpoolctl-3.1.0 tifffile-2022.5.4\n",
      "\u001b[33mWARNING: Running pip as the 'root' user can result in broken permissions and conflicting behaviour with the system package manager. It is recommended to use a virtual environment instead: https://pip.pypa.io/warnings/venv\u001b[0m\n"
     ]
    }
   ],
   "source": [
    "!pip install -r requirements.txt"
   ]
  },
  {
   "cell_type": "code",
   "execution_count": null,
   "id": "367c7de8-ed7a-4ac9-82f8-1e6d76d71b7a",
   "metadata": {},
   "outputs": [],
   "source": []
  }
 ],
 "metadata": {
  "kernelspec": {
   "display_name": "Python 3 (ipykernel)",
   "language": "python",
   "name": "python3"
  },
  "language_info": {
   "codemirror_mode": {
    "name": "ipython",
    "version": 3
   },
   "file_extension": ".py",
   "mimetype": "text/x-python",
   "name": "python",
   "nbconvert_exporter": "python",
   "pygments_lexer": "ipython3",
   "version": "3.8.10"
  }
 },
 "nbformat": 4,
 "nbformat_minor": 5
}
