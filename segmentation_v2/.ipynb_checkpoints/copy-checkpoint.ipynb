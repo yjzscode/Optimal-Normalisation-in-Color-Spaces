{
 "cells": [
  {
   "cell_type": "code",
   "execution_count": 11,
   "id": "7788e959-ee7d-4a29-b543-100416250349",
   "metadata": {},
   "outputs": [
    {
     "data": {
      "text/plain": [
       "'/root/autodl-tmp/RandStainNA-master/segmentation/standard_norm/colornorm_44/train/label'"
      ]
     },
     "execution_count": 11,
     "metadata": {},
     "output_type": "execute_result"
    }
   ],
   "source": [
    "import os  \t\t\t\t#os是用来切换路径和创建文件夹的。\n",
    "import shutil\n",
    "from shutil import copy #shutil 是用来复制黏贴文件的\n",
    " \n",
    "#复制\"C:\\myweb\\chapter01\"到\"C:\\myweb\\chapter02\"目录下\n",
    "# shutil.copytree(r'/root/autodl-tmp/RandStainNA-master/segmentation/standard/train/bound', \n",
    "#                 r'/root/autodl-tmp/RandStainNA-master/segmentation/standard_norm/colornorm_44/train/bound')\n",
    "shutil.copytree(r'/root/autodl-tmp/RandStainNA-master/segmentation/standard/train/label', \n",
    "                r'/root/autodl-tmp/RandStainNA-master/segmentation/standard_norm/colornorm_44/train/label')\n",
    "\t\t    \n",
    "'/root/autodl-tmp/RandStainNA-master/segmentation/standard_norm/colornorm_44/train/label'\n",
    " \n",
    "#复制\"C:\\myweb\\chapter01\"到\"C:\\myweb\\chapter02\"目录下并修改名称为chapter01_bak\n",
    "# shutil.copytree(r'C:\\myweb\\chapter01', r'C:\\myweb\\chapter02\\chapter01_bak')   \n",
    "# 'C:\\\\myweb\\\\chapter02\\\\chapter01_bak'"
   ]
  },
  {
   "cell_type": "code",
   "execution_count": 4,
   "id": "b929fbb6-0b6c-47d2-847b-47dc5a0d2c09",
   "metadata": {
    "collapsed": true,
    "jupyter": {
     "outputs_hidden": true
    },
    "tags": []
   },
   "outputs": [
    {
     "name": "stdout",
     "output_type": "stream",
     "text": [
      "Looking in indexes: http://mirrors.aliyun.com/pypi/simple\n",
      "Collecting pytest-shutil\n",
      "  Downloading http://mirrors.aliyun.com/pypi/packages/26/b7/ef48a8f1f81ae4cd6f22992f6ffb7e9bf030d6e6654e2e626a05aaf5e880/pytest_shutil-1.7.0-py2.py3-none-any.whl (15 kB)\n",
      "Collecting path.py\n",
      "  Downloading http://mirrors.aliyun.com/pypi/packages/8f/04/130b7a538c25693c85c4dee7e25d126ebf5511b1eb7320e64906687b159e/path.py-12.5.0-py3-none-any.whl (2.3 kB)\n",
      "Collecting pytest\n",
      "  Downloading http://mirrors.aliyun.com/pypi/packages/fb/d0/bae533985f2338c5d02184b4a7083b819f6b3fc101da792e0d96e6e5299d/pytest-7.1.2-py3-none-any.whl (297 kB)\n",
      "\u001b[K     |████████████████████████████████| 297 kB 2.4 MB/s eta 0:00:01\n",
      "\u001b[?25hRequirement already satisfied: six in /root/miniconda3/lib/python3.8/site-packages (from pytest-shutil) (1.16.0)\n",
      "Collecting contextlib2\n",
      "  Downloading http://mirrors.aliyun.com/pypi/packages/76/56/6d6872f79d14c0cb02f1646cbb4592eef935857c0951a105874b7b62a0c3/contextlib2-21.6.0-py2.py3-none-any.whl (13 kB)\n",
      "Collecting termcolor\n",
      "  Downloading http://mirrors.aliyun.com/pypi/packages/8a/48/a76be51647d0eb9f10e2a4511bf3ffb8cc1e6b14e9e4fab46173aa79f981/termcolor-1.1.0.tar.gz (3.9 kB)\n",
      "Collecting mock\n",
      "  Downloading http://mirrors.aliyun.com/pypi/packages/5c/03/b7e605db4a57c0f6fba744b11ef3ddf4ddebcada35022927a2b5fc623fdf/mock-4.0.3-py3-none-any.whl (28 kB)\n",
      "Collecting execnet\n",
      "  Downloading http://mirrors.aliyun.com/pypi/packages/81/c0/3072ecc23f4c5e0a1af35e3a222855cfd9c80a1a105ca67be3b6172637dd/execnet-1.9.0-py2.py3-none-any.whl (39 kB)\n",
      "Collecting path\n",
      "  Downloading http://mirrors.aliyun.com/pypi/packages/1f/41/02b9ba2c77791a2afea82bf18ec693a8eb5ff668e2c39d990ef6b15333f1/path-16.4.0-py3-none-any.whl (26 kB)\n",
      "Requirement already satisfied: attrs>=19.2.0 in /root/miniconda3/lib/python3.8/site-packages (from pytest->pytest-shutil) (21.2.0)\n",
      "Collecting pluggy<2.0,>=0.12\n",
      "  Downloading http://mirrors.aliyun.com/pypi/packages/9e/01/f38e2ff29715251cf25532b9082a1589ab7e4f571ced434f98d0139336dc/pluggy-1.0.0-py2.py3-none-any.whl (13 kB)\n",
      "Collecting tomli>=1.0.0\n",
      "  Downloading http://mirrors.aliyun.com/pypi/packages/97/75/10a9ebee3fd790d20926a90a2547f0bf78f371b2f13aa822c759680ca7b9/tomli-2.0.1-py3-none-any.whl (12 kB)\n",
      "Requirement already satisfied: packaging in /root/miniconda3/lib/python3.8/site-packages (from pytest->pytest-shutil) (21.0)\n",
      "Collecting iniconfig\n",
      "  Downloading http://mirrors.aliyun.com/pypi/packages/9b/dd/b3c12c6d707058fa947864b67f0c4e0c39ef8610988d7baea9578f3c48f3/iniconfig-1.1.1-py2.py3-none-any.whl (5.0 kB)\n",
      "Collecting py>=1.8.2\n",
      "  Downloading http://mirrors.aliyun.com/pypi/packages/f6/f0/10642828a8dfb741e5f3fbaac830550a518a775c7fff6f04a007259b0548/py-1.11.0-py2.py3-none-any.whl (98 kB)\n",
      "\u001b[K     |████████████████████████████████| 98 kB 2.1 MB/s eta 0:00:011\n",
      "\u001b[?25hRequirement already satisfied: pyparsing>=2.0.2 in /root/miniconda3/lib/python3.8/site-packages (from packaging->pytest->pytest-shutil) (2.4.7)\n",
      "Building wheels for collected packages: termcolor\n",
      "  Building wheel for termcolor (setup.py) ... \u001b[?25ldone\n",
      "\u001b[?25h  Created wheel for termcolor: filename=termcolor-1.1.0-py3-none-any.whl size=4829 sha256=42cf8761b93b19b352e82a1fbc07bac2d8b18b418fceb876711926d0b30ac0b2\n",
      "  Stored in directory: /root/.cache/pip/wheels/77/83/72/2f8fd2274618dabac14ac44c425333b4d9cd6cb296243af7f1\n",
      "Successfully built termcolor\n",
      "Installing collected packages: tomli, py, pluggy, path, iniconfig, termcolor, pytest, path.py, mock, execnet, contextlib2, pytest-shutil\n",
      "Successfully installed contextlib2-21.6.0 execnet-1.9.0 iniconfig-1.1.1 mock-4.0.3 path-16.4.0 path.py-12.5.0 pluggy-1.0.0 py-1.11.0 pytest-7.1.2 pytest-shutil-1.7.0 termcolor-1.1.0 tomli-2.0.1\n",
      "\u001b[33mWARNING: Running pip as the 'root' user can result in broken permissions and conflicting behaviour with the system package manager. It is recommended to use a virtual environment instead: https://pip.pypa.io/warnings/venv\u001b[0m\n"
     ]
    }
   ],
   "source": [
    "!pip install pytest-shutil"
   ]
  },
  {
   "cell_type": "code",
   "execution_count": 13,
   "id": "5b301eee-bca2-4d22-b306-b06b5eefdf2c",
   "metadata": {},
   "outputs": [
    {
     "data": {
      "text/plain": [
       "'/root/autodl-tmp/RandStainNA-master/segmentation/standard_norm/colornorm_XS/test/label'"
      ]
     },
     "execution_count": 13,
     "metadata": {},
     "output_type": "execute_result"
    }
   ],
   "source": [
    "import os  \t\t\t\t#os是用来切换路径和创建文件夹的。\n",
    "import shutil\n",
    "from shutil import copy #shutil 是用来复制黏贴文件的\n",
    " \n",
    "#复制\"C:\\myweb\\chapter01\"到\"C:\\myweb\\chapter02\"目录下\n",
    "shutil.copytree(r'/root/autodl-tmp/RandStainNA-master/segmentation/standard/train/bound', \n",
    "                r'/root/autodl-tmp/RandStainNA-master/segmentation/standard_norm/colornorm_AR/train/bound')\n",
    "shutil.copytree(r'/root/autodl-tmp/RandStainNA-master/segmentation/standard/train/label', \n",
    "                r'/root/autodl-tmp/RandStainNA-master/segmentation/standard_norm/colornorm_AR/train/label')\n",
    "shutil.copytree(r'/root/autodl-tmp/RandStainNA-master/segmentation/standard/test/bound', \n",
    "                r'/root/autodl-tmp/RandStainNA-master/segmentation/standard_norm/colornorm_AR/test/bound')\n",
    "shutil.copytree(r'/root/autodl-tmp/RandStainNA-master/segmentation/standard/test/label', \n",
    "                r'/root/autodl-tmp/RandStainNA-master/segmentation/standard_norm/colornorm_AR/test/label')\n",
    "\n",
    "shutil.copytree(r'/root/autodl-tmp/RandStainNA-master/segmentation/standard/train/bound', \n",
    "                r'/root/autodl-tmp/RandStainNA-master/segmentation/standard_norm/colornorm_B0/train/bound')\n",
    "shutil.copytree(r'/root/autodl-tmp/RandStainNA-master/segmentation/standard/train/label', \n",
    "                r'/root/autodl-tmp/RandStainNA-master/segmentation/standard_norm/colornorm_B0/train/label')\n",
    "shutil.copytree(r'/root/autodl-tmp/RandStainNA-master/segmentation/standard/test/bound', \n",
    "                r'/root/autodl-tmp/RandStainNA-master/segmentation/standard_norm/colornorm_B0/test/bound')\n",
    "shutil.copytree(r'/root/autodl-tmp/RandStainNA-master/segmentation/standard/test/label', \n",
    "                r'/root/autodl-tmp/RandStainNA-master/segmentation/standard_norm/colornorm_B0/test/label')\n",
    "\n",
    "shutil.copytree(r'/root/autodl-tmp/RandStainNA-master/segmentation/standard/train/bound', \n",
    "                r'/root/autodl-tmp/RandStainNA-master/segmentation/standard_norm/colornorm_F9/train/bound')\n",
    "shutil.copytree(r'/root/autodl-tmp/RandStainNA-master/segmentation/standard/train/label', \n",
    "                r'/root/autodl-tmp/RandStainNA-master/segmentation/standard_norm/colornorm_F9/train/label')\n",
    "shutil.copytree(r'/root/autodl-tmp/RandStainNA-master/segmentation/standard/test/bound', \n",
    "                r'/root/autodl-tmp/RandStainNA-master/segmentation/standard_norm/colornorm_F9/test/bound')\n",
    "shutil.copytree(r'/root/autodl-tmp/RandStainNA-master/segmentation/standard/test/label', \n",
    "                r'/root/autodl-tmp/RandStainNA-master/segmentation/standard_norm/colornorm_F9/test/label')\n",
    "\n",
    "shutil.copytree(r'/root/autodl-tmp/RandStainNA-master/segmentation/standard/train/bound', \n",
    "                r'/root/autodl-tmp/RandStainNA-master/segmentation/standard_norm/colornorm_FG/train/bound')\n",
    "shutil.copytree(r'/root/autodl-tmp/RandStainNA-master/segmentation/standard/train/label', \n",
    "                r'/root/autodl-tmp/RandStainNA-master/segmentation/standard_norm/colornorm_FG/train/label')\n",
    "shutil.copytree(r'/root/autodl-tmp/RandStainNA-master/segmentation/standard/test/bound', \n",
    "                r'/root/autodl-tmp/RandStainNA-master/segmentation/standard_norm/colornorm_FG/test/bound')\n",
    "shutil.copytree(r'/root/autodl-tmp/RandStainNA-master/segmentation/standard/test/label', \n",
    "                r'/root/autodl-tmp/RandStainNA-master/segmentation/standard_norm/colornorm_FG/test/label')\n",
    "\n",
    "shutil.copytree(r'/root/autodl-tmp/RandStainNA-master/segmentation/standard/train/bound', \n",
    "                r'/root/autodl-tmp/RandStainNA-master/segmentation/standard_norm/colornorm_HE/train/bound')\n",
    "shutil.copytree(r'/root/autodl-tmp/RandStainNA-master/segmentation/standard/train/label', \n",
    "                r'/root/autodl-tmp/RandStainNA-master/segmentation/standard_norm/colornorm_HE/train/label')\n",
    "shutil.copytree(r'/root/autodl-tmp/RandStainNA-master/segmentation/standard/test/bound', \n",
    "                r'/root/autodl-tmp/RandStainNA-master/segmentation/standard_norm/colornorm_HE/test/bound')\n",
    "shutil.copytree(r'/root/autodl-tmp/RandStainNA-master/segmentation/standard/test/label', \n",
    "                r'/root/autodl-tmp/RandStainNA-master/segmentation/standard_norm/colornorm_HE/test/label')\n",
    "\n",
    "shutil.copytree(r'/root/autodl-tmp/RandStainNA-master/segmentation/standard/train/bound', \n",
    "                r'/root/autodl-tmp/RandStainNA-master/segmentation/standard_norm/colornorm_HT/train/bound')\n",
    "shutil.copytree(r'/root/autodl-tmp/RandStainNA-master/segmentation/standard/train/label', \n",
    "                r'/root/autodl-tmp/RandStainNA-master/segmentation/standard_norm/colornorm_HT/train/label')\n",
    "shutil.copytree(r'/root/autodl-tmp/RandStainNA-master/segmentation/standard/test/bound', \n",
    "                r'/root/autodl-tmp/RandStainNA-master/segmentation/standard_norm/colornorm_HT/test/bound')\n",
    "shutil.copytree(r'/root/autodl-tmp/RandStainNA-master/segmentation/standard/test/label', \n",
    "                r'/root/autodl-tmp/RandStainNA-master/segmentation/standard_norm/colornorm_HT/test/label')\n",
    "\n",
    "shutil.copytree(r'/root/autodl-tmp/RandStainNA-master/segmentation/standard/train/bound', \n",
    "                r'/root/autodl-tmp/RandStainNA-master/segmentation/standard_norm/colornorm_KB/train/bound')\n",
    "shutil.copytree(r'/root/autodl-tmp/RandStainNA-master/segmentation/standard/train/label', \n",
    "                r'/root/autodl-tmp/RandStainNA-master/segmentation/standard_norm/colornorm_KB/train/label')\n",
    "shutil.copytree(r'/root/autodl-tmp/RandStainNA-master/segmentation/standard/test/bound', \n",
    "                r'/root/autodl-tmp/RandStainNA-master/segmentation/standard_norm/colornorm_KB/test/bound')\n",
    "shutil.copytree(r'/root/autodl-tmp/RandStainNA-master/segmentation/standard/test/label', \n",
    "                r'/root/autodl-tmp/RandStainNA-master/segmentation/standard_norm/colornorm_KB/test/label')\n",
    "\n",
    "shutil.copytree(r'/root/autodl-tmp/RandStainNA-master/segmentation/standard/train/bound', \n",
    "                r'/root/autodl-tmp/RandStainNA-master/segmentation/standard_norm/colornorm_UZ/train/bound')\n",
    "shutil.copytree(r'/root/autodl-tmp/RandStainNA-master/segmentation/standard/train/label', \n",
    "                r'/root/autodl-tmp/RandStainNA-master/segmentation/standard_norm/colornorm_UZ/train/label')\n",
    "shutil.copytree(r'/root/autodl-tmp/RandStainNA-master/segmentation/standard/test/bound', \n",
    "                r'/root/autodl-tmp/RandStainNA-master/segmentation/standard_norm/colornorm_UZ/test/bound')\n",
    "shutil.copytree(r'/root/autodl-tmp/RandStainNA-master/segmentation/standard/test/label', \n",
    "                r'/root/autodl-tmp/RandStainNA-master/segmentation/standard_norm/colornorm_UZ/test/label')\n",
    "\n",
    "shutil.copytree(r'/root/autodl-tmp/RandStainNA-master/segmentation/standard/train/bound', \n",
    "                r'/root/autodl-tmp/RandStainNA-master/segmentation/standard_norm/colornorm_XS/train/bound')\n",
    "shutil.copytree(r'/root/autodl-tmp/RandStainNA-master/segmentation/standard/train/label', \n",
    "                r'/root/autodl-tmp/RandStainNA-master/segmentation/standard_norm/colornorm_XS/train/label')\n",
    "shutil.copytree(r'/root/autodl-tmp/RandStainNA-master/segmentation/standard/test/bound', \n",
    "                r'/root/autodl-tmp/RandStainNA-master/segmentation/standard_norm/colornorm_XS/test/bound')\n",
    "shutil.copytree(r'/root/autodl-tmp/RandStainNA-master/segmentation/standard/test/label', \n",
    "                r'/root/autodl-tmp/RandStainNA-master/segmentation/standard_norm/colornorm_XS/test/label')\n"
   ]
  },
  {
   "cell_type": "code",
   "execution_count": null,
   "id": "9429af4d-b88a-4f82-a5ad-ba8099ee65cb",
   "metadata": {},
   "outputs": [],
   "source": [
    "import os  \t\t\t\t#os是用来切换路径和创建文件夹的。\n",
    "import shutil\n",
    "from shutil import copy #shutil 是用来复制黏贴文件的\n",
    " \n",
    "#复制\"C:\\myweb\\chapter01\"到\"C:\\myweb\\chapter02\"目录下\n",
    "shutil.copytree(r'/root/autodl-tmp/RandStainNA-master/segmentation/standard/train/bound', \n",
    "                r'/root/autodl-tmp/RandStainNA-master/segmentation/standard_norm/_colornorm_44/train/bound')\n",
    "shutil.copytree(r'/root/autodl-tmp/RandStainNA-master/segmentation/standard/train/label', \n",
    "                r'/root/autodl-tmp/RandStainNA-master/segmentation/standard_norm/_colornorm_44/train/label')\n",
    "shutil.copytree(r'/root/autodl-tmp/RandStainNA-master/segmentation/standard/test/bound', \n",
    "                r'/root/autodl-tmp/RandStainNA-master/segmentation/standard_norm/_colornorm_44/test/bound')\n",
    "shutil.copytree(r'/root/autodl-tmp/RandStainNA-master/segmentation/standard/test/label', \n",
    "                r'/root/autodl-tmp/RandStainNA-master/segmentation/standard_norm/_colornorm_44/test/label')\n"
   ]
  }
 ],
 "metadata": {
  "kernelspec": {
   "display_name": "Python 3 (ipykernel)",
   "language": "python",
   "name": "python3"
  },
  "language_info": {
   "codemirror_mode": {
    "name": "ipython",
    "version": 3
   },
   "file_extension": ".py",
   "mimetype": "text/x-python",
   "name": "python",
   "nbconvert_exporter": "python",
   "pygments_lexer": "ipython3",
   "version": "3.8.10"
  }
 },
 "nbformat": 4,
 "nbformat_minor": 5
}
