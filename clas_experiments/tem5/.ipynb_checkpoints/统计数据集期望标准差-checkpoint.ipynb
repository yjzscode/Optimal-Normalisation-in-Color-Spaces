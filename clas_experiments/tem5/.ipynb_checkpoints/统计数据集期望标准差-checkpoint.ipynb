{
 "cells": [
  {
   "cell_type": "code",
   "execution_count": 2,
   "id": "15cbc1f7-5f9a-4c1c-aabc-906b57a82c65",
   "metadata": {},
   "outputs": [],
   "source": [
    "import numpy as np\n",
    "import numpy.linalg as npl\n",
    "import matplotlib.pyplot as plt\n",
    "from matplotlib.pyplot import figure\n",
    "import sympy\n",
    "from sympy import *\n",
    "from IPython.core.interactiveshell import InteractiveShell\n",
    "from mpl_toolkits.mplot3d import Axes3D\n",
    "from sklearn.datasets import make_blobs\n",
    "from sklearn.neighbors import KernelDensity\n",
    "import itertools as it\n",
    "import seaborn as sns\n",
    "import scipy\n",
    "from scipy import stats\n",
    "from scipy.stats import gaussian_kde\n",
    "from scipy.stats import multivariate_normal\n",
    "from matplotlib.gridspec import GridSpec\n",
    "from matplotlib import cm\n",
    "import math\n",
    "from scipy.integrate import trapz\n",
    "import os\n",
    "import torch\n",
    "from tqdm import tqdm\n",
    "import numpy as np\n",
    "import random\n",
    "from datetime import datetime\n",
    "import time\n",
    "from omegaconf import OmegaConf\n",
    "from torchvision import transforms\n",
    "import torch.nn.functional as F\n",
    "from torch.utils.data import DataLoader\n",
    "from torch.optim import AdamW\n",
    "from torch.optim import lr_scheduler\n",
    "import pandas as pd\n",
    "import torchvision\n",
    "from set import HistoDataset\n",
    "from torch import nn\n",
    "import torch\n",
    "from kornia.color import lab_to_rgb, rgb_to_lab, hsv_to_rgb, rgb_to_hsv\n",
    "from einops import repeat\n",
    "# from model.hed import hed_to_rgb, rgb_to_hed\n"
   ]
  },
  {
   "cell_type": "code",
   "execution_count": null,
   "id": "724cdd3f-8941-4a39-bba0-eb09642219ca",
   "metadata": {
    "jupyter": {
     "source_hidden": true
    },
    "tags": []
   },
   "outputs": [],
   "source": [
    "# Figure setup.\n",
    "fig = plt.figure(figsize=(14, 12))\n",
    "gs = GridSpec(2, 2, width_ratios=[4, 1], height_ratios=[1, 4])\n",
    "ax1 = fig.add_subplot(gs[0])\n",
    "ax3 = fig.add_subplot(gs[2])\n",
    "ax3.axis('equal')\n",
    "ax4 = fig.add_subplot(gs[3])\n",
    "bins = 100\n",
    "# Figure setup.\n",
    "\n",
    "# Central scatter plot.\n",
    "ax3.scatter(data[:,0],data[:,1], s = .5, alpha = .5)\n",
    "sns.kdeplot(data[:,0], data[:,1],n_levels=10, cmap=\"viridis_r\", ax = ax3, bw = 1)\n",
    "ax3.scatter(np.mean(data[:,0]),np.mean(data[:,1]), marker = \"o\", color = \"magenta\")\n",
    "ax3.scatter(max(set(first[:,0]), key=list(first[:,0]).count), max(set(first[:,1]), key=list(first[:,1]).count), marker = \"*\", c = \"k\")\n",
    "ax3.scatter(max(set(second[:,0]), key=list(second[:,0]).count), max(set(second[:,1]), key=list(second[:,1]).count), marker = \"*\", c = \"k\")\n",
    "# Central scatter plot.\n",
    "\n",
    "# X distribution.\n",
    "sns.distplot(data[:,0], ax = ax1, bins = bins)\n",
    "ax1.scatter(np.median(data[:,0]),0, label = \"median\", marker = \"s\", c = \"r\")\n",
    "ax1.scatter(np.mean(data[:,0]), 0, label = \"mean\", marker = \"o\", c = \"magenta\")\n",
    "ax1.scatter(max(set(first[:,0]), key=list(first[:,0]).count),0, label = \"modes\", marker = \"*\", c = \"k\")\n",
    "ax1.scatter(max(set(second[:,0]), key=list(second[:,0]).count),0, label=\"_nolegend_\", marker = \"*\", c = \"k\")\n",
    "ax1.legend()\n",
    "# X distribution.\n",
    "\n",
    "# Y distribution.\n",
    "sns.distplot(data[:,1], ax = ax4, vertical = True, bins = bins)\n",
    "ax4.scatter(0,max(set(first[:,1]), key=list(first[:,1]).count), marker = \"*\", c = \"k\")\n",
    "ax4.scatter(0,max(set(second[:,1]), key=list(second[:,1]).count), marker = \"*\", c = \"k\")\n",
    "ax4.scatter(0, np.mean(data[:,1]), marker = \"o\", c = \"magenta\")\n",
    "ax4.scatter(0,np.median(data[:,1]), marker = \"s\", c = \"r\");\n",
    "# Y distribution."
   ]
  },
  {
   "cell_type": "code",
   "execution_count": 3,
   "id": "a9ed6ec0-857e-42f0-8c05-105e36b98a2d",
   "metadata": {
    "tags": []
   },
   "outputs": [],
   "source": [
    "train_transform = transforms.Compose(\n",
    "    [\n",
    "        transforms.Resize(224),\n",
    "        transforms.RandomHorizontalFlip(),\n",
    "        transforms.RandomVerticalFlip(),\n",
    "        transforms.ToTensor(),\n",
    "        # transforms.Normalize((0.485, 0.456, 0.406), (0.229, 0.224, 0.225)),\n",
    "    ]\n",
    ")\n",
    "\n",
    "test_transform = transforms.Compose(\n",
    "    [\n",
    "        transforms.Resize(224),\n",
    "        transforms.ToTensor(),\n",
    "        # transforms.Normalize((0.485, 0.456, 0.406), (0.229, 0.224, 0.225)),\n",
    "    ]\n",
    ")"
   ]
  },
  {
   "cell_type": "code",
   "execution_count": 5,
   "id": "8a956214-073c-4123-82d3-4a7d5b201b0c",
   "metadata": {},
   "outputs": [
    {
     "name": "stderr",
     "output_type": "stream",
     "text": [
      "  0%|          | 0/5 [00:00<?, ?it/s]"
     ]
    },
    {
     "name": "stdout",
     "output_type": "stream",
     "text": [
      "tensor([ 73.6482,  19.4928, -13.0196])\n",
      "tensor([17.2171, 12.5249,  9.1925])\n"
     ]
    },
    {
     "name": "stderr",
     "output_type": "stream",
     "text": [
      " 20%|██        | 1/5 [02:08<08:34, 128.57s/it]"
     ]
    },
    {
     "name": "stdout",
     "output_type": "stream",
     "text": [
      "tensor([4.9848, 0.2105, 0.8239])\n",
      "tensor([1.0167, 0.1452, 0.1290])\n",
      "tensor([41.2265, 48.1252, 12.8106])\n",
      "tensor([12.7149,  9.6892,  8.9319])\n"
     ]
    },
    {
     "name": "stderr",
     "output_type": "stream",
     "text": [
      " 40%|████      | 2/5 [04:19<06:29, 129.83s/it]"
     ]
    },
    {
     "name": "stdout",
     "output_type": "stream",
     "text": [
      "tensor([5.9879, 0.6904, 0.6672])\n",
      "tensor([0.5846, 0.1222, 0.1481])\n",
      "tensor([68.1938, 23.5120, -7.0459])\n",
      "tensor([12.3506,  7.3657,  4.6922])\n"
     ]
    },
    {
     "name": "stderr",
     "output_type": "stream",
     "text": [
      " 60%|██████    | 3/5 [06:30<04:20, 130.50s/it]"
     ]
    },
    {
     "name": "stdout",
     "output_type": "stream",
     "text": [
      "tensor([5.6407, 0.2607, 0.7955])\n",
      "tensor([0.5089, 0.0973, 0.1086])\n",
      "tensor([ 50.1595,  23.1264, -13.3275])\n",
      "tensor([22.9706, 10.0159,  7.7661])\n"
     ]
    },
    {
     "name": "stderr",
     "output_type": "stream",
     "text": [
      " 80%|████████  | 4/5 [08:40<02:10, 130.46s/it]"
     ]
    },
    {
     "name": "stdout",
     "output_type": "stream",
     "text": [
      "tensor([5.2452, 0.3465, 0.5971])\n",
      "tensor([0.7657, 0.1731, 0.2011])\n",
      "tensor([ 62.4136,  31.1109, -17.6057])\n",
      "tensor([13.6258,  9.3445,  6.1372])\n"
     ]
    },
    {
     "name": "stderr",
     "output_type": "stream",
     "text": [
      "100%|██████████| 5/5 [10:51<00:00, 130.33s/it]"
     ]
    },
    {
     "name": "stdout",
     "output_type": "stream",
     "text": [
      "tensor([5.2826, 0.3301, 0.7578])\n",
      "tensor([0.5867, 0.1063, 0.1182])\n"
     ]
    },
    {
     "name": "stderr",
     "output_type": "stream",
     "text": [
      "100%|██████████| 5/5 [10:51<00:00, 130.38s/it]\n",
      "  0%|          | 0/1 [00:00<?, ?it/s]"
     ]
    },
    {
     "name": "stdout",
     "output_type": "stream",
     "text": [
      "tensor([59.1283, 29.0735, -7.6376])\n",
      "tensor([15.7758,  9.7881,  7.3440])\n"
     ]
    },
    {
     "name": "stderr",
     "output_type": "stream",
     "text": [
      "100%|██████████| 1/1 [02:39<00:00, 159.01s/it]"
     ]
    },
    {
     "name": "stdout",
     "output_type": "stream",
     "text": [
      "tensor([5.4282, 0.3676, 0.7283])\n",
      "tensor([0.6925, 0.1288, 0.1410])\n"
     ]
    },
    {
     "name": "stderr",
     "output_type": "stream",
     "text": [
      "\n"
     ]
    }
   ],
   "source": [
    "device = torch.device(\"cuda\" if torch.cuda.is_available() else \"cpu\")\n",
    "# trainset = HistoDataset(\n",
    "#     root='/root/autodl-tmp/RandStainNA-master/classification/100K-NONORM-png/train0',\n",
    "#     transform=train_transform,\n",
    "# )\n",
    "# train_loader = DataLoader(\n",
    "#             dataset=trainset,\n",
    "#             batch_size=1,\n",
    "#             shuffle=True,\n",
    "#             num_workers=15,\n",
    "#         )        \n",
    "testset = HistoDataset(\n",
    "    root='/root/autodl-tmp/clas_experiments/tem5/tem5_9',\n",
    "    transform=test_transform,\n",
    ")\n",
    "\n",
    "test_loader = DataLoader(\n",
    "            dataset=testset,\n",
    "            batch_size=1,\n",
    "            shuffle=True,\n",
    "#             num_workers=15,\n",
    "        )      \n",
    "\n",
    "for img, label in tqdm(test_loader):\n",
    "    x = rgb_to_lab(img).to(device)\n",
    "    mu = x.mean(axis=(2, 3)).to(device)\n",
    "    sigma = x.std(axis=(2, 3)).to(device)\n",
    "    mu0 = mu.mean(axis=0).to(device)\n",
    "    sigma0 = sigma.mean(axis=0).to(device)\n",
    "    print(mu0)\n",
    "    print(sigma0)\n",
    "    x = rgb_to_hsv(img).to(device)\n",
    "    mu = x.mean(axis=(2, 3)).to(device)\n",
    "    sigma = x.std(axis=(2, 3)).to(device)\n",
    "    mu0 = mu.mean(axis=0).to(device)\n",
    "    sigma0 = sigma.mean(axis=0).to(device)\n",
    "    print(mu0)\n",
    "    print(sigma0)\n",
    "    \n",
    "test_loader = DataLoader(\n",
    "            dataset=testset,\n",
    "            batch_size=5,\n",
    "            shuffle=True,\n",
    "#             num_workers=15,\n",
    "        )      \n",
    "\n",
    "for img, label in tqdm(test_loader):\n",
    "    x = rgb_to_lab(img).to(device)\n",
    "    mu = x.mean(axis=(2, 3)).to(device)\n",
    "    sigma = x.std(axis=(2, 3)).to(device)\n",
    "    mu0 = mu.mean(axis=0).to(device)\n",
    "    sigma0 = sigma.mean(axis=0).to(device)\n",
    "    print(mu0)\n",
    "    print(sigma0)\n",
    "    x = rgb_to_hsv(img).to(device)\n",
    "    mu = x.mean(axis=(2, 3)).to(device)\n",
    "    sigma = x.std(axis=(2, 3)).to(device)\n",
    "    mu0 = mu.mean(axis=0).to(device)\n",
    "    sigma0 = sigma.mean(axis=0).to(device)\n",
    "    print(mu0)\n",
    "    print(sigma0)\n",
    "    \n"
   ]
  },
  {
   "cell_type": "code",
   "execution_count": 6,
   "id": "ba910486-0a3e-4035-8867-4e3cf2001f4f",
   "metadata": {
    "tags": []
   },
   "outputs": [
    {
     "name": "stderr",
     "output_type": "stream",
     "text": [
      "  0%|          | 0/5 [00:00<?, ?it/s]"
     ]
    },
    {
     "name": "stdout",
     "output_type": "stream",
     "text": [
      "tensor([ 68.1618,  18.8190, -15.7948])\n"
     ]
    },
    {
     "name": "stderr",
     "output_type": "stream",
     "text": [
      " 20%|██        | 1/5 [02:11<08:47, 131.88s/it]"
     ]
    },
    {
     "name": "stdout",
     "output_type": "stream",
     "text": [
      "tensor([12.3986,  4.1922,  5.4855])\n",
      "tensor([5.0612, 0.2166, 0.7723])\n",
      "tensor([0.2953, 0.0824, 0.1096])\n",
      "tensor([ 77.0568,  15.5358, -11.4600])\n",
      "tensor([15.5582, 10.9654,  9.1604])\n"
     ]
    },
    {
     "name": "stderr",
     "output_type": "stream",
     "text": [
      " 40%|████      | 2/5 [04:21<06:32, 130.71s/it]"
     ]
    },
    {
     "name": "stdout",
     "output_type": "stream",
     "text": [
      "tensor([4.8243, 0.1717, 0.8451])\n",
      "tensor([1.1921, 0.1271, 0.1122])\n",
      "tensor([85.4315,  6.6547, -3.6012])\n",
      "tensor([15.4758,  9.6628,  5.9288])\n"
     ]
    },
    {
     "name": "stderr",
     "output_type": "stream",
     "text": [
      " 60%|██████    | 3/5 [06:32<04:21, 130.80s/it]"
     ]
    },
    {
     "name": "stdout",
     "output_type": "stream",
     "text": [
      "tensor([2.8742, 0.0798, 0.8821])\n",
      "tensor([2.5893, 0.1191, 0.1162])\n",
      "tensor([ 76.8864,  17.3920, -10.5947])\n",
      "tensor([13.9332,  8.6885,  6.7381])\n",
      "tensor([5.1419, 0.1798, 0.8493])\n"
     ]
    },
    {
     "name": "stderr",
     "output_type": "stream",
     "text": [
      " 80%|████████  | 4/5 [08:42<02:10, 130.52s/it]"
     ]
    },
    {
     "name": "stdout",
     "output_type": "stream",
     "text": [
      "tensor([0.9074, 0.1007, 0.1138])\n",
      "tensor([86.8613,  5.5046, -2.6466])\n",
      "tensor([9.9796, 6.3520, 2.9410])\n"
     ]
    },
    {
     "name": "stderr",
     "output_type": "stream",
     "text": [
      "100%|██████████| 5/5 [10:54<00:00, 130.86s/it]"
     ]
    },
    {
     "name": "stdout",
     "output_type": "stream",
     "text": [
      "tensor([5.1106, 0.0599, 0.8891])\n",
      "tensor([0.9129, 0.0779, 0.0753])\n"
     ]
    },
    {
     "name": "stderr",
     "output_type": "stream",
     "text": [
      "\n",
      "  0%|          | 0/1 [00:00<?, ?it/s]"
     ]
    },
    {
     "name": "stdout",
     "output_type": "stream",
     "text": [
      "tensor([78.8796, 12.7812, -8.8195])\n"
     ]
    },
    {
     "name": "stderr",
     "output_type": "stream",
     "text": [
      "100%|██████████| 1/1 [02:39<00:00, 159.31s/it]"
     ]
    },
    {
     "name": "stdout",
     "output_type": "stream",
     "text": [
      "tensor([13.4691,  7.9721,  6.0507])\n",
      "tensor([4.6024, 0.1416, 0.8476])\n",
      "tensor([1.1794, 0.1014, 0.1054])\n"
     ]
    },
    {
     "name": "stderr",
     "output_type": "stream",
     "text": [
      "100%|██████████| 1/1 [02:39<00:00, 159.90s/it]\n"
     ]
    }
   ],
   "source": [
    "device = torch.device(\"cuda\" if torch.cuda.is_available() else \"cpu\")\n",
    "# trainset = HistoDataset(\n",
    "#     root='/root/autodl-tmp/RandStainNA-master/classification/100K-NONORM-png/train0',\n",
    "#     transform=train_transform,\n",
    "# )\n",
    "# train_loader = DataLoader(\n",
    "#             dataset=trainset,\n",
    "#             batch_size=1,\n",
    "#             shuffle=True,\n",
    "#             num_workers=15,\n",
    "#         )        \n",
    "testset = HistoDataset(\n",
    "    root='/root/autodl-tmp/clas_experiments/tem5/tem5_10',\n",
    "    transform=test_transform,\n",
    ")\n",
    "\n",
    "test_loader = DataLoader(\n",
    "            dataset=testset,\n",
    "            batch_size=1,\n",
    "            shuffle=True,\n",
    "#             num_workers=15,\n",
    "        )      \n",
    "\n",
    "for img, label in tqdm(test_loader):\n",
    "    x = rgb_to_lab(img).to(device)\n",
    "    mu = x.mean(axis=(2, 3)).to(device)\n",
    "    sigma = x.std(axis=(2, 3)).to(device)\n",
    "    mu0 = mu.mean(axis=0).to(device)\n",
    "    sigma0 = sigma.mean(axis=0).to(device)\n",
    "    print(mu0)\n",
    "    print(sigma0)\n",
    "    x = rgb_to_hsv(img).to(device)\n",
    "    mu = x.mean(axis=(2, 3)).to(device)\n",
    "    sigma = x.std(axis=(2, 3)).to(device)\n",
    "    mu0 = mu.mean(axis=0).to(device)\n",
    "    sigma0 = sigma.mean(axis=0).to(device)\n",
    "    print(mu0)\n",
    "    print(sigma0)\n",
    "    \n",
    "test_loader = DataLoader(\n",
    "            dataset=testset,\n",
    "            batch_size=5,\n",
    "            shuffle=True,\n",
    "#             num_workers=15,\n",
    "        )      \n",
    "\n",
    "for img, label in tqdm(test_loader):\n",
    "    x = rgb_to_lab(img).to(device)\n",
    "    mu = x.mean(axis=(2, 3)).to(device)\n",
    "    sigma = x.std(axis=(2, 3)).to(device)\n",
    "    mu0 = mu.mean(axis=0).to(device)\n",
    "    sigma0 = sigma.mean(axis=0).to(device)\n",
    "    print(mu0)\n",
    "    print(sigma0)\n",
    "    x = rgb_to_hsv(img).to(device)\n",
    "    mu = x.mean(axis=(2, 3)).to(device)\n",
    "    sigma = x.std(axis=(2, 3)).to(device)\n",
    "    mu0 = mu.mean(axis=0).to(device)\n",
    "    sigma0 = sigma.mean(axis=0).to(device)\n",
    "    print(mu0)\n",
    "    print(sigma0)\n",
    "    \n"
   ]
  },
  {
   "cell_type": "code",
   "execution_count": 7,
   "id": "8588f37b-7220-4f9e-9675-95e3d0639436",
   "metadata": {},
   "outputs": [
    {
     "name": "stderr",
     "output_type": "stream",
     "text": [
      "  0%|          | 0/5 [00:00<?, ?it/s]"
     ]
    },
    {
     "name": "stdout",
     "output_type": "stream",
     "text": [
      "tensor([ 71.5421,  18.8019, -16.1848])\n",
      "tensor([12.5121,  7.0799,  7.7980])\n"
     ]
    },
    {
     "name": "stderr",
     "output_type": "stream",
     "text": [
      " 20%|██        | 1/5 [02:10<08:40, 130.19s/it]"
     ]
    },
    {
     "name": "stdout",
     "output_type": "stream",
     "text": [
      "tensor([4.9755, 0.2119, 0.8121])\n",
      "tensor([0.6219, 0.0939, 0.0948])\n",
      "tensor([ 69.7712,  21.8404, -15.7030])\n",
      "tensor([15.7183, 11.1385,  8.9338])\n"
     ]
    },
    {
     "name": "stderr",
     "output_type": "stream",
     "text": [
      " 40%|████      | 2/5 [04:23<06:36, 132.31s/it]"
     ]
    },
    {
     "name": "stdout",
     "output_type": "stream",
     "text": [
      "tensor([5.0409, 0.2356, 0.7949])\n",
      "tensor([0.8042, 0.1283, 0.1157])\n",
      "tensor([ 74.2486,  18.8146, -12.9439])\n",
      "tensor([16.5039, 12.1015,  9.0588])\n"
     ]
    },
    {
     "name": "stderr",
     "output_type": "stream",
     "text": [
      " 60%|██████    | 3/5 [06:38<04:26, 133.36s/it]"
     ]
    },
    {
     "name": "stdout",
     "output_type": "stream",
     "text": [
      "tensor([5.0032, 0.2039, 0.8290])\n",
      "tensor([0.9342, 0.1408, 0.1229])\n",
      "tensor([79.1478, 15.3244, -8.5148])\n",
      "tensor([19.5926, 17.2294,  9.5656])\n",
      "tensor([4.7708, 0.1662, 0.8548])"
     ]
    },
    {
     "name": "stderr",
     "output_type": "stream",
     "text": [
      " 80%|████████  | 4/5 [08:46<02:11, 131.08s/it]"
     ]
    },
    {
     "name": "stdout",
     "output_type": "stream",
     "text": [
      "\n",
      "tensor([1.4641, 0.1865, 0.1299])\n",
      "tensor([69.3211, 24.7903, -6.0176])\n",
      "tensor([4.9580, 3.3053, 2.4178])\n"
     ]
    },
    {
     "name": "stderr",
     "output_type": "stream",
     "text": [
      "100%|██████████| 5/5 [10:55<00:00, 130.30s/it]"
     ]
    },
    {
     "name": "stdout",
     "output_type": "stream",
     "text": [
      "tensor([5.7576, 0.2648, 0.8181])\n",
      "tensor([0.1295, 0.0397, 0.0482])\n"
     ]
    },
    {
     "name": "stderr",
     "output_type": "stream",
     "text": [
      "100%|██████████| 5/5 [10:55<00:00, 131.10s/it]\n",
      "  0%|          | 0/1 [00:00<?, ?it/s]"
     ]
    },
    {
     "name": "stdout",
     "output_type": "stream",
     "text": [
      "tensor([ 72.8062,  19.9143, -11.8728])\n",
      "tensor([13.8570, 10.1709,  7.5548])\n"
     ]
    },
    {
     "name": "stderr",
     "output_type": "stream",
     "text": [
      "100%|██████████| 1/1 [02:36<00:00, 156.41s/it]"
     ]
    },
    {
     "name": "stdout",
     "output_type": "stream",
     "text": [
      "tensor([5.1096, 0.2165, 0.8218])\n",
      "tensor([0.7908, 0.1178, 0.1023])\n"
     ]
    },
    {
     "name": "stderr",
     "output_type": "stream",
     "text": [
      "100%|██████████| 1/1 [02:37<00:00, 157.10s/it]\n"
     ]
    }
   ],
   "source": [
    "device = torch.device(\"cuda\" if torch.cuda.is_available() else \"cpu\")\n",
    "# trainset = HistoDataset(\n",
    "#     root='/root/autodl-tmp/RandStainNA-master/classification/100K-NONORM-png/train0',\n",
    "#     transform=train_transform,\n",
    "# )\n",
    "# train_loader = DataLoader(\n",
    "#             dataset=trainset,\n",
    "#             batch_size=1,\n",
    "#             shuffle=True,\n",
    "#             num_workers=15,\n",
    "#         )        \n",
    "testset = HistoDataset(\n",
    "    root='/root/autodl-tmp/clas_experiments/tem5/tem5_11',\n",
    "    transform=test_transform,\n",
    ")\n",
    "\n",
    "test_loader = DataLoader(\n",
    "            dataset=testset,\n",
    "            batch_size=1,\n",
    "            shuffle=True,\n",
    "#             num_workers=15,\n",
    "        )      \n",
    "\n",
    "for img, label in tqdm(test_loader):\n",
    "    x = rgb_to_lab(img).to(device)\n",
    "    mu = x.mean(axis=(2, 3)).to(device)\n",
    "    sigma = x.std(axis=(2, 3)).to(device)\n",
    "    mu0 = mu.mean(axis=0).to(device)\n",
    "    sigma0 = sigma.mean(axis=0).to(device)\n",
    "    print(mu0)\n",
    "    print(sigma0)\n",
    "    x = rgb_to_hsv(img).to(device)\n",
    "    mu = x.mean(axis=(2, 3)).to(device)\n",
    "    sigma = x.std(axis=(2, 3)).to(device)\n",
    "    mu0 = mu.mean(axis=0).to(device)\n",
    "    sigma0 = sigma.mean(axis=0).to(device)\n",
    "    print(mu0)\n",
    "    print(sigma0)\n",
    "    \n",
    "test_loader = DataLoader(\n",
    "            dataset=testset,\n",
    "            batch_size=5,\n",
    "            shuffle=True,\n",
    "#             num_workers=15,\n",
    "        )      \n",
    "\n",
    "for img, label in tqdm(test_loader):\n",
    "    x = rgb_to_lab(img).to(device)\n",
    "    mu = x.mean(axis=(2, 3)).to(device)\n",
    "    sigma = x.std(axis=(2, 3)).to(device)\n",
    "    mu0 = mu.mean(axis=0).to(device)\n",
    "    sigma0 = sigma.mean(axis=0).to(device)\n",
    "    print(mu0)\n",
    "    print(sigma0)\n",
    "    x = rgb_to_hsv(img).to(device)\n",
    "    mu = x.mean(axis=(2, 3)).to(device)\n",
    "    sigma = x.std(axis=(2, 3)).to(device)\n",
    "    mu0 = mu.mean(axis=0).to(device)\n",
    "    sigma0 = sigma.mean(axis=0).to(device)\n",
    "    print(mu0)\n",
    "    print(sigma0)\n",
    "    \n"
   ]
  },
  {
   "cell_type": "code",
   "execution_count": 4,
   "id": "916ff340-eed7-4847-9ece-61add7949783",
   "metadata": {},
   "outputs": [
    {
     "name": "stderr",
     "output_type": "stream",
     "text": [
      "  0%|          | 0/5 [00:00<?, ?it/s]"
     ]
    },
    {
     "name": "stdout",
     "output_type": "stream",
     "text": [
      "tensor([24.0784, 33.7001, -5.4814])\n",
      "tensor([14.3766,  8.8859,  7.2024])\n"
     ]
    },
    {
     "name": "stderr",
     "output_type": "stream",
     "text": [
      " 20%|██        | 1/5 [02:18<09:15, 138.84s/it]"
     ]
    },
    {
     "name": "stdout",
     "output_type": "stream",
     "text": [
      "tensor([5.6729, 0.7077, 0.3943])\n",
      "tensor([0.3187, 0.1086, 0.1849])\n",
      "tensor([82.2964, 10.9365, -7.1426])\n"
     ]
    },
    {
     "name": "stderr",
     "output_type": "stream",
     "text": [
      " 40%|████      | 2/5 [04:49<07:17, 146.00s/it]"
     ]
    },
    {
     "name": "stdout",
     "output_type": "stream",
     "text": [
      "tensor([10.0520,  6.4955,  5.0879])\n",
      "tensor([5.0081, 0.1128, 0.8735])\n",
      "tensor([1.0534, 0.0639, 0.0880])\n",
      "tensor([ 60.7725,  31.5060, -16.7488])\n",
      "tensor([19.7038, 16.4598,  9.1243])\n"
     ]
    },
    {
     "name": "stderr",
     "output_type": "stream",
     "text": [
      " 60%|██████    | 3/5 [07:10<04:47, 143.71s/it]"
     ]
    },
    {
     "name": "stdout",
     "output_type": "stream",
     "text": [
      "tensor([5.2411, 0.3589, 0.7386])\n",
      "tensor([0.8539, 0.1940, 0.1393])\n",
      "tensor([ 65.0635,  38.3990, -15.4694])\n",
      "tensor([9.2253, 7.0327, 4.4181])\n"
     ]
    },
    {
     "name": "stderr",
     "output_type": "stream",
     "text": [
      " 80%|████████  | 4/5 [09:40<02:25, 145.92s/it]"
     ]
    },
    {
     "name": "stdout",
     "output_type": "stream",
     "text": [
      "tensor([5.5505, 0.3817, 0.8325])\n",
      "tensor([0.1939, 0.0794, 0.0919])\n",
      "tensor([78.6546, 19.1315, -9.1878])\n",
      "tensor([8.1112, 6.4148, 3.6890])\n"
     ]
    },
    {
     "name": "stderr",
     "output_type": "stream",
     "text": [
      "100%|██████████| 5/5 [11:59<00:00, 143.99s/it]\n"
     ]
    },
    {
     "name": "stdout",
     "output_type": "stream",
     "text": [
      "tensor([5.4380, 0.1833, 0.8765])\n",
      "tensor([0.4790, 0.0650, 0.0680])\n"
     ]
    },
    {
     "name": "stderr",
     "output_type": "stream",
     "text": [
      "  0%|          | 0/1 [00:00<?, ?it/s]"
     ]
    },
    {
     "name": "stdout",
     "output_type": "stream",
     "text": [
      "tensor([ 62.1731,  26.7346, -10.8060])\n",
      "tensor([12.2938,  9.0578,  5.9043])\n"
     ]
    },
    {
     "name": "stderr",
     "output_type": "stream",
     "text": [
      "100%|██████████| 1/1 [03:08<00:00, 188.50s/it]"
     ]
    },
    {
     "name": "stdout",
     "output_type": "stream",
     "text": [
      "tensor([5.3821, 0.3489, 0.7431])\n",
      "tensor([0.5798, 0.1022, 0.1144])\n"
     ]
    },
    {
     "name": "stderr",
     "output_type": "stream",
     "text": [
      "100%|██████████| 1/1 [03:08<00:00, 188.90s/it]\n"
     ]
    }
   ],
   "source": [
    "device = torch.device(\"cuda\" if torch.cuda.is_available() else \"cpu\")\n",
    "# trainset = HistoDataset(\n",
    "#     root='/root/autodl-tmp/RandStainNA-master/classification/100K-NONORM-png/train0',\n",
    "#     transform=train_transform,\n",
    "# )\n",
    "# train_loader = DataLoader(\n",
    "#             dataset=trainset,\n",
    "#             batch_size=1,\n",
    "#             shuffle=True,\n",
    "#             num_workers=15,\n",
    "#         )        \n",
    "testset = HistoDataset(\n",
    "    root='/root/autodl-tmp/clas_experiments/tem5/tem5_12',\n",
    "    transform=test_transform,\n",
    ")\n",
    "\n",
    "test_loader = DataLoader(\n",
    "            dataset=testset,\n",
    "            batch_size=1,\n",
    "            shuffle=True,\n",
    "#             num_workers=15,\n",
    "        )      \n",
    "\n",
    "for img, label in tqdm(test_loader):\n",
    "    x = rgb_to_lab(img).to(device)\n",
    "    mu = x.mean(axis=(2, 3)).to(device)\n",
    "    sigma = x.std(axis=(2, 3)).to(device)\n",
    "    mu0 = mu.mean(axis=0).to(device)\n",
    "    sigma0 = sigma.mean(axis=0).to(device)\n",
    "    print(mu0)\n",
    "    print(sigma0)\n",
    "    x = rgb_to_hsv(img).to(device)\n",
    "    mu = x.mean(axis=(2, 3)).to(device)\n",
    "    sigma = x.std(axis=(2, 3)).to(device)\n",
    "    mu0 = mu.mean(axis=0).to(device)\n",
    "    sigma0 = sigma.mean(axis=0).to(device)\n",
    "    print(mu0)\n",
    "    print(sigma0)\n",
    "    \n",
    "test_loader = DataLoader(\n",
    "            dataset=testset,\n",
    "            batch_size=5,\n",
    "            shuffle=True,\n",
    "#             num_workers=15,\n",
    "        )      \n",
    "\n",
    "for img, label in tqdm(test_loader):\n",
    "    x = rgb_to_lab(img).to(device)\n",
    "    mu = x.mean(axis=(2, 3)).to(device)\n",
    "    sigma = x.std(axis=(2, 3)).to(device)\n",
    "    mu0 = mu.mean(axis=0).to(device)\n",
    "    sigma0 = sigma.mean(axis=0).to(device)\n",
    "    print(mu0)\n",
    "    print(sigma0)\n",
    "    x = rgb_to_hsv(img).to(device)\n",
    "    mu = x.mean(axis=(2, 3)).to(device)\n",
    "    sigma = x.std(axis=(2, 3)).to(device)\n",
    "    mu0 = mu.mean(axis=0).to(device)\n",
    "    sigma0 = sigma.mean(axis=0).to(device)\n",
    "    print(mu0)\n",
    "    print(sigma0)\n",
    "    \n"
   ]
  },
  {
   "cell_type": "code",
   "execution_count": null,
   "id": "cb8a2998-ac1f-4222-adec-e3f91a37b8c8",
   "metadata": {},
   "outputs": [],
   "source": []
  },
  {
   "cell_type": "code",
   "execution_count": null,
   "id": "cdc7282a-c00f-44fd-a59d-cd22cb9ad803",
   "metadata": {},
   "outputs": [],
   "source": []
  }
 ],
 "metadata": {
  "kernelspec": {
   "display_name": "Python 3 (ipykernel)",
   "language": "python",
   "name": "python3"
  },
  "language_info": {
   "codemirror_mode": {
    "name": "ipython",
    "version": 3
   },
   "file_extension": ".py",
   "mimetype": "text/x-python",
   "name": "python",
   "nbconvert_exporter": "python",
   "pygments_lexer": "ipython3",
   "version": "3.8.10"
  }
 },
 "nbformat": 4,
 "nbformat_minor": 5
}
